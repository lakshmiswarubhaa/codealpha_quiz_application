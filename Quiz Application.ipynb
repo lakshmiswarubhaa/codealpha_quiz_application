{
 "cells": [
  {
   "cell_type": "code",
   "execution_count": 1,
   "id": "7f3ecf58",
   "metadata": {},
   "outputs": [
    {
     "name": "stdout",
     "output_type": "stream",
     "text": [
      "Where is the strongest human muscle located??\n",
      "A) Jaw\n",
      "B) Shoulders\n",
      "C) Arms\n",
      "D) Thighs\n",
      "Your answer (A/B/C/D): a\n",
      "Correct!\n",
      "Which planet has the most moons?\n",
      "A) Mars\n",
      "B) Jupiter\n",
      "C) Saturn\n",
      "D) Earth\n",
      "Your answer (A/B/C/D): c\n",
      "Correct!\n",
      "What is acrophobia a fear of?\n",
      "A) Water\n",
      "B) Crowds\n",
      "C) Heights\n",
      "D) Flying\n",
      "Your answer (A/B/C/D): b\n",
      "Wrong! The correct answer is C.\n",
      "What is the state capital of New York?\n",
      "A) Denver\n",
      "B) Albany\n",
      "C) Boston\n",
      "D) Atlanta\n",
      "Your answer (A/B/C/D): b\n",
      "Correct!\n",
      "Where did sushi originate?\n",
      "A) Korea\n",
      "B) Australia\n",
      "C) Japan\n",
      "D) China\n",
      "Your answer (A/B/C/D): d\n",
      "Correct!\n",
      "Your score: 4/5\n"
     ]
    }
   ],
   "source": [
    "questions = [\n",
    "    {\n",
    "        \"question\": \"Where is the strongest human muscle located??\",\n",
    "        \"options\": [\"A) Jaw\", \"B) Shoulders\", \"C) Arms\", \"D) Thighs\"],\n",
    "        \"correct_answer\": \"A\",\n",
    "    },\n",
    "    {\n",
    "        \"question\": \"Which planet has the most moons?\",\n",
    "        \"options\": [\"A) Mars\", \"B) Jupiter\", \"C) Saturn\", \"D) Earth\"],\n",
    "        \"correct_answer\": \"C\",\n",
    "    },\n",
    "    {\n",
    "        \"question\": \"What is acrophobia a fear of?\",\n",
    "        \"options\": [\"A) Water\", \"B) Crowds\", \"C) Heights\", \"D) Flying\"],\n",
    "        \"correct_answer\": \"C\",\n",
    "    },\n",
    "    {\n",
    "        \"question\": \"What is the state capital of New York?\",\n",
    "        \"options\": [\"A) Denver\", \"B) Albany\", \"C) Boston\", \"D) Atlanta\"],\n",
    "        \"correct_answer\": \"B\",\n",
    "    },\n",
    "    {\n",
    "        \"question\": \"Where did sushi originate?\",\n",
    "        \"options\": [\"A) Korea\", \"B) Australia\", \"C) Japan\", \"D) China\"],\n",
    "        \"correct_answer\": \"D\",\n",
    "    },\n",
    "]\n",
    "def run_quiz(questions):\n",
    "    score = 0\n",
    "    for question in questions:\n",
    "        print(question[\"question\"])\n",
    "        for option in question[\"options\"]:\n",
    "            print(option)\n",
    "        user_answer = input(\"Your answer (A/B/C/D): \").strip().upper()\n",
    "        if user_answer == question[\"correct_answer\"]:\n",
    "            print(\"Correct!\")\n",
    "            score += 1\n",
    "        else:\n",
    "            print(f\"Wrong! The correct answer is {question['correct_answer']}.\")\n",
    "\n",
    "    print(f\"Your score: {score}/{len(questions)}\")\n",
    "\n",
    "if __name__ == \"__main__\":\n",
    "    run_quiz(questions)\n"
   ]
  },
  {
   "cell_type": "code",
   "execution_count": null,
   "id": "06024b40",
   "metadata": {},
   "outputs": [],
   "source": []
  }
 ],
 "metadata": {
  "kernelspec": {
   "display_name": "Python 3 (ipykernel)",
   "language": "python",
   "name": "python3"
  },
  "language_info": {
   "codemirror_mode": {
    "name": "ipython",
    "version": 3
   },
   "file_extension": ".py",
   "mimetype": "text/x-python",
   "name": "python",
   "nbconvert_exporter": "python",
   "pygments_lexer": "ipython3",
   "version": "3.9.12"
  }
 },
 "nbformat": 4,
 "nbformat_minor": 5
}
